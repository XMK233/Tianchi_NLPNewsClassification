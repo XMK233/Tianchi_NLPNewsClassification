{
 "cells": [
  {
   "cell_type": "code",
   "execution_count": 1,
   "id": "33297da1-2c6b-4cbf-bf0c-d38dc5250cd9",
   "metadata": {},
   "outputs": [
    {
     "name": "stdout",
     "output_type": "stream",
     "text": [
      "torch.Size([2, 14])\n"
     ]
    }
   ],
   "source": [
    "import torch\n",
    "import torch.nn as nn\n",
    "import torch.nn.functional as F\n",
    "from torch_geometric.utils import dense_to_sparse\n",
    "\n",
    "\n",
    "\n",
    "# 使用示例\n",
    "if __name__ == \"__main__\":\n",
    "    # 假设输入数据: batch_size=2, seq_len=10, vocab_size=10000\n",
    "    inputs = torch.randint(0, 10000, (2, 10))  \n",
    "    \n",
    "    model = TextGCN(vocab_size=10000)\n",
    "    outputs = model(inputs)\n",
    "    print(outputs.shape)  # torch.Size([2, 14])"
   ]
  },
  {
   "cell_type": "code",
   "execution_count": 2,
   "id": "f5c7ad2f-025f-43eb-a9e2-66d5381df874",
   "metadata": {},
   "outputs": [
    {
     "data": {
      "text/plain": [
       "tensor([[8473,  661, 4243, 2415, 7734, 8163, 2561, 6944, 1088, 5565],\n",
       "        [3613, 6045,   28, 8119, 6925,  560, 6913, 4765, 9400, 2793]])"
      ]
     },
     "execution_count": 2,
     "metadata": {},
     "output_type": "execute_result"
    }
   ],
   "source": [
    "inputs"
   ]
  },
  {
   "cell_type": "code",
   "execution_count": null,
   "id": "2fde816b-203e-4b06-81a5-2a98085003b1",
   "metadata": {},
   "outputs": [],
   "source": []
  }
 ],
 "metadata": {
  "kernelspec": {
   "display_name": "Python 3 (ipykernel)",
   "language": "python",
   "name": "python3"
  },
  "language_info": {
   "codemirror_mode": {
    "name": "ipython",
    "version": 3
   },
   "file_extension": ".py",
   "mimetype": "text/x-python",
   "name": "python",
   "nbconvert_exporter": "python",
   "pygments_lexer": "ipython3",
   "version": "3.12.0"
  }
 },
 "nbformat": 4,
 "nbformat_minor": 5
}
