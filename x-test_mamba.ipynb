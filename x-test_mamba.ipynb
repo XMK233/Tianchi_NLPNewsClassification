{
 "cells": [
  {
   "cell_type": "markdown",
   "id": "a7663d16-71f3-4c04-844c-c7dc22406897",
   "metadata": {},
   "source": [
    "Mamba out!"
   ]
  },
  {
   "cell_type": "code",
   "execution_count": 11,
   "id": "f68a225a-bc9e-4567-9378-dd76025c769f",
   "metadata": {},
   "outputs": [
    {
     "data": {
      "text/plain": [
       "1536"
      ]
     },
     "execution_count": 11,
     "metadata": {},
     "output_type": "execute_result"
    }
   ],
   "source": [
    "(2560-2432)*12"
   ]
  },
  {
   "cell_type": "code",
   "execution_count": null,
   "id": "a54d5b49-3bee-4bcb-bc9a-b2c34e77dea3",
   "metadata": {},
   "outputs": [],
   "source": [
    "换租：1536-1330+(一个半月左右的房租)"
   ]
  },
  {
   "cell_type": "code",
   "execution_count": null,
   "id": "0213215c-018a-4f63-9573-f8904f59254c",
   "metadata": {},
   "outputs": [],
   "source": [
    "退租：2660+(一个半月左右的房租)"
   ]
  },
  {
   "cell_type": "code",
   "execution_count": null,
   "id": "62e175c7-854c-4a19-87e6-5754a8c027db",
   "metadata": {},
   "outputs": [],
   "source": [
    "正退：0+1536=1536\n",
    "退租：(一个月房租)-2660+1536=2866\n",
    "换租：(一个半月左右的房租)-1330=2660"
   ]
  },
  {
   "cell_type": "markdown",
   "id": "806d24de-a06e-4f20-8f7c-d62cd1a64098",
   "metadata": {},
   "source": [
    "租金和押金，新房优惠。\n",
    "* 正退：租金无了，押金回来，新房优惠1536。\n",
    "* 退租：租金回来大约2660，押金无了，新房优惠1536。\n",
    "* 换租：租金回来3990左右，押金少一半，无优惠。"
   ]
  },
  {
   "cell_type": "markdown",
   "id": "0479af14-6b74-406f-989d-9b06d8adf3f6",
   "metadata": {},
   "source": [
    "* 正退：租金-3990左右，押金全部收回+2660，新房优惠+1536\n",
    "* 退租：租金回来大概+2660，押金全无-2660，新房优惠+1536\n",
    "* 换租：租金回来大概+3990，押金收回一半+1330，新房优惠0"
   ]
  },
  {
   "cell_type": "code",
   "execution_count": 13,
   "id": "77d8494e-b108-442f-a325-f7232acdb665",
   "metadata": {},
   "outputs": [
    {
     "data": {
      "text/plain": [
       "206"
      ]
     },
     "execution_count": 13,
     "metadata": {},
     "output_type": "execute_result"
    }
   ],
   "source": [
    "-3990+2660+1536"
   ]
  },
  {
   "cell_type": "code",
   "execution_count": 14,
   "id": "0cedaa87-4bd1-4c50-81ba-b38a66b72c0e",
   "metadata": {},
   "outputs": [
    {
     "data": {
      "text/plain": [
       "1536"
      ]
     },
     "execution_count": 14,
     "metadata": {},
     "output_type": "execute_result"
    }
   ],
   "source": [
    "1536"
   ]
  },
  {
   "cell_type": "code",
   "execution_count": 15,
   "id": "e88035d6-939d-43b9-9fbc-c230ac3117e4",
   "metadata": {},
   "outputs": [
    {
     "data": {
      "text/plain": [
       "5320"
      ]
     },
     "execution_count": 15,
     "metadata": {},
     "output_type": "execute_result"
    }
   ],
   "source": [
    "3990+1330"
   ]
  },
  {
   "cell_type": "code",
   "execution_count": 16,
   "id": "26088e28-0e96-4011-9cc9-de23653740d6",
   "metadata": {},
   "outputs": [
    {
     "data": {
      "text/plain": [
       "4196"
      ]
     },
     "execution_count": 16,
     "metadata": {},
     "output_type": "execute_result"
    }
   ],
   "source": [
    "2660+1536"
   ]
  },
  {
   "cell_type": "markdown",
   "id": "e899edec-93fd-4a56-8af2-b9326c17a491",
   "metadata": {},
   "source": [
    "正退：租金收回0，押金收回2660，新房优惠1536，得确切4196\n",
    "退租：租金收回约2660（因为要扣掉15天，那就还剩30天左右可以退回），押金收回0，新房优惠1536，得大约4196。\n",
    "换租：租金收回约3990（如果我要是换租申请优惠券，可能就是确切的这个数了），押金收回1330，新房优惠0，得大约5320\n",
    "--》也就是说，换租的话，比什么都不做，能省个1000上下，取决于搬家的速度了。\n",
    "--〉搬家的话，尽量断舍离。平时咱们蚂蚁搬家式地把不常用的轻的东西，挪过去，然后周六周日大搬，大不了多跑几趟，多给点钱给师傅，两天把家搬好。如果还剩东西，就跟舍友勾兑一下放在客厅里，回头我们再找周末给它搬走。\n",
    "\n",
    "新换的房子，空间比原来的小一点点，采光要差一些，毕竟在一个夹角里面。但是价格便宜了一些，地段好了非常多，离公司也近（这一点，金不换），周末可以多待在公司里（不太冷的话），或者出去转转，都会是更好的选择。"
   ]
  },
  {
   "cell_type": "code",
   "execution_count": 17,
   "id": "ed632e9a-113e-4b04-9719-8c99a95f3c00",
   "metadata": {},
   "outputs": [
    {
     "data": {
      "text/plain": [
       "5320"
      ]
     },
     "execution_count": 17,
     "metadata": {},
     "output_type": "execute_result"
    }
   ],
   "source": [
    "3990+1330"
   ]
  },
  {
   "cell_type": "code",
   "execution_count": null,
   "id": "d493c65e-e613-41fe-8c37-d3d699172ed1",
   "metadata": {},
   "outputs": [],
   "source": []
  },
  {
   "cell_type": "code",
   "execution_count": null,
   "id": "b833ab28-1d53-48ad-8ab0-421a800e7ec0",
   "metadata": {},
   "outputs": [],
   "source": []
  },
  {
   "cell_type": "code",
   "execution_count": null,
   "id": "6bcfeae8-34ed-485f-bf1a-a0c243d40e49",
   "metadata": {},
   "outputs": [],
   "source": []
  },
  {
   "cell_type": "code",
   "execution_count": null,
   "id": "1054fd4b-8f65-46ef-8180-87b9627e6ab4",
   "metadata": {},
   "outputs": [],
   "source": []
  },
  {
   "cell_type": "code",
   "execution_count": null,
   "id": "7fcf3ee9-91fe-499d-80c0-387fb5559188",
   "metadata": {},
   "outputs": [],
   "source": []
  },
  {
   "cell_type": "code",
   "execution_count": 3,
   "id": "8b5e4788-face-4a79-902f-e69714cd6a52",
   "metadata": {},
   "outputs": [
    {
     "name": "stdout",
     "output_type": "stream",
     "text": [
      "输出logits形状: torch.Size([32, 14])\n"
     ]
    }
   ],
   "source": [
    "## 从\n",
    "\n",
    "import torch\n",
    "import torch.nn as nn\n",
    "import torch.nn.functional as F\n",
    "from einops import rearrange\n",
    "\n",
    "class MambaConfig:\n",
    "    def __init__(\n",
    "        self,\n",
    "        d_model=256,    # 模型维度\n",
    "        n_layer=4,      # Mamba层数\n",
    "        vocab_size=30000, # 词表大小\n",
    "        num_classes=14, # 分类类别数\n",
    "        state_dim=16,   # 状态空间维度\n",
    "        expand=2,       # 扩展因子\n",
    "        dt_rank=\"auto\", # Δ的秩\n",
    "        conv_kernel=4,  # 卷积核大小\n",
    "        # use_cuda=True,  # 是否使用CUDA加速\n",
    "    ):\n",
    "        self.d_model = d_model\n",
    "        self.n_layer = n_layer\n",
    "        self.vocab_size = vocab_size\n",
    "        self.num_classes = num_classes\n",
    "        self.state_dim = state_dim\n",
    "        self.expand = expand\n",
    "        self.d_inner = int(self.expand * self.d_model)\n",
    "        self.dt_rank = dt_rank if dt_rank != \"auto\" else (self.d_model // 16)\n",
    "        self.conv_kernel = conv_kernel\n",
    "        # self.use_cuda = use_cuda\n",
    "\n",
    "class MambaBlock(nn.Module):\n",
    "    \"\"\"Mamba 核心块 (基于选择性状态空间模型)\"\"\"\n",
    "    def __init__(self, config):\n",
    "        super().__init__()\n",
    "        self.config = config\n",
    "\n",
    "        # 投影输入到内部维度\n",
    "        self.in_proj = nn.Linear(config.d_model, config.d_inner * 2, bias=False)\n",
    "\n",
    "        # 卷积分支\n",
    "        self.conv1d = nn.Conv1d(\n",
    "            in_channels=config.d_inner,\n",
    "            out_channels=config.d_inner,\n",
    "            kernel_size=config.conv_kernel,\n",
    "            groups=config.d_inner,\n",
    "            padding=config.conv_kernel - 1,\n",
    "        )\n",
    "\n",
    "        # 选择性SSM参数生成\n",
    "        self.x_proj = nn.Linear(config.d_inner, config.dt_rank + config.state_dim * 2, bias=False)\n",
    "        self.dt_proj = nn.Linear(config.dt_rank, config.d_inner, bias=True)\n",
    "        \n",
    "        # 状态空间参数\n",
    "        self.A = nn.Parameter(torch.arange(1, config.state_dim+1, dtype=torch.float32).repeat(config.d_inner, 1))\n",
    "        self.D = nn.Parameter(torch.ones(config.d_inner))\n",
    "\n",
    "        # 输出投影\n",
    "        self.out_proj = nn.Linear(config.d_inner, config.d_model, bias=False)\n",
    "\n",
    "        # 层归一化\n",
    "        self.norm = nn.LayerNorm(config.d_model)\n",
    "\n",
    "    def forward(self, x):\n",
    "        # x shape: [batch, seq_len, d_model]\n",
    "        residual = x\n",
    "        x = self.norm(x)\n",
    "        \n",
    "        # 投影到内部维度\n",
    "        x = self.in_proj(x)  # [batch, seq_len, d_inner*2]\n",
    "        x, z = x.chunk(2, dim=-1)  # 分割为两个分支\n",
    "        \n",
    "        # 1D卷积\n",
    "        x = rearrange(x, 'b l d -> b d l')\n",
    "        x = self.conv1d(x)[:, :, :-(self.config.conv_kernel - 1)]  # 因果卷积\n",
    "        x = rearrange(x, 'b d l -> b l d')\n",
    "        x = F.silu(x)\n",
    "        \n",
    "        # 生成选择性参数\n",
    "        params = self.x_proj(x)  # [batch, seq_len, dt_rank + 2*state_dim]\n",
    "        dt, B, C = torch.split(params, [self.config.dt_rank, self.config.state_dim, self.config.state_dim], dim=-1)\n",
    "        dt = self.dt_proj(dt)  # [batch, seq_len, d_inner]\n",
    "        \n",
    "        # 离散化状态空间模型\n",
    "        A = -torch.exp(self.A.float())  # [d_inner, state_dim]\n",
    "        discrete_A = torch.exp(A[None, None, :, :] * dt[:, :, :, None])  # [batch, seq_len, d_inner, state_dim]\n",
    "        discrete_B = dt[:, :, :, None] * B[:, :, None, :]  # [batch, seq_len, d_inner, state_dim]\n",
    "        C = C[:, :, None, :]  # [batch, seq_len, 1, state_dim]\n",
    "        \n",
    "        # 扫描过程 (简化实现)\n",
    "        state = torch.zeros(x.size(0), self.config.d_inner, self.config.state_dim, device=x.device)\n",
    "        outputs = []\n",
    "        for i in range(x.size(1)):\n",
    "            state = discrete_A[:, i] * state + discrete_B[:, i] * x[:, i, :, None]\n",
    "            y = (state @ C[:, i].transpose(-1, -2)).squeeze(-1) + self.D * x[:, i]\n",
    "            outputs.append(y)\n",
    "        x = torch.stack(outputs, dim=1)  # [batch, seq_len, d_inner]\n",
    "        \n",
    "        # 门控分支\n",
    "        z = torch.sigmoid(z)\n",
    "        x = x * z\n",
    "        \n",
    "        # 输出投影\n",
    "        x = self.out_proj(x)  # [batch, seq_len, d_model]\n",
    "        \n",
    "        return x + residual\n",
    "\n",
    "class MambaTextClassifier(nn.Module):\n",
    "    def __init__(self, config):\n",
    "        super().__init__()\n",
    "        self.config = config\n",
    "        \n",
    "        # 词嵌入层\n",
    "        self.embedding = nn.Embedding(config.vocab_size, config.d_model)\n",
    "        \n",
    "        # Mamba层堆叠\n",
    "        self.layers = nn.ModuleList([\n",
    "            MambaBlock(config) for _ in range(config.n_layer)\n",
    "        ])\n",
    "        \n",
    "        # 分类头\n",
    "        self.classifier = nn.Linear(config.d_model, config.num_classes)\n",
    "        \n",
    "    def forward(self, input_ids):\n",
    "        # input_ids: [batch, seq_len]\n",
    "        x = self.embedding(input_ids)  # [batch, seq_len, d_model]\n",
    "        \n",
    "        # 通过Mamba层\n",
    "        for layer in self.layers:\n",
    "            x = layer(x)\n",
    "        \n",
    "        # 池化取平均\n",
    "        pooled = x.mean(dim=1)  # [batch, d_model]\n",
    "        \n",
    "        # 分类\n",
    "        logits = self.classifier(pooled)  # [batch, num_classes]\n",
    "        return logits\n",
    "\n",
    "# 示例用法\n",
    "if __name__ == \"__main__\":\n",
    "    config = MambaConfig(\n",
    "        vocab_size=30000,\n",
    "        num_classes=14,\n",
    "        d_model=256,\n",
    "        n_layer=4\n",
    "    )\n",
    "    \n",
    "    model = MambaTextClassifier(config)\n",
    "    model.to(torch.device(\"mps\"))\n",
    "    \n",
    "    # 模拟输入\n",
    "    batch_size = 32\n",
    "    seq_len = 128\n",
    "    input_ids = torch.randint(0, 30000, (batch_size, seq_len)).to(torch.device(\"mps\"))\n",
    "    \n",
    "    # 前向传播\n",
    "    logits = model(input_ids)\n",
    "    print(\"输出logits形状:\", logits.shape)  # 应为 [32, 14]"
   ]
  },
  {
   "cell_type": "code",
   "execution_count": null,
   "id": "42aea53d-c6f2-4ce4-bc05-df3c5d23c9d8",
   "metadata": {},
   "outputs": [],
   "source": []
  }
 ],
 "metadata": {
  "kernelspec": {
   "display_name": "Python 3 (ipykernel)",
   "language": "python",
   "name": "python3"
  },
  "language_info": {
   "codemirror_mode": {
    "name": "ipython",
    "version": 3
   },
   "file_extension": ".py",
   "mimetype": "text/x-python",
   "name": "python",
   "nbconvert_exporter": "python",
   "pygments_lexer": "ipython3",
   "version": "3.12.0"
  }
 },
 "nbformat": 4,
 "nbformat_minor": 5
}
