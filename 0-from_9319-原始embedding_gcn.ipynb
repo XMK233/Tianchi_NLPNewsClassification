{
 "cells": [
  {
   "cell_type": "code",
   "execution_count": 1,
   "id": "8d8114b5-ffbc-4b0a-9e85-4c007576f1c1",
   "metadata": {},
   "outputs": [
    {
     "name": "stdout",
     "output_type": "stream",
     "text": [
      "storage dir: /Users/minkexiu/Downloads/GitHub/Tianchi_NLPNewsClassification\n",
      "code dir: /Users/minkexiu/Documents/GitHub/Tianchi_NLPNewsClassification \n",
      "\n",
      "07 22 58\n",
      "先天八卦数: 1乾, 2兑, 3离, 4震, 5巽, 6坎, 7艮, 8坤\n",
      "本卦上：7 本卦下：6 变爻：4\n"
     ]
    },
    {
     "data": {
      "text/html": [
       "<div>\n",
       "<style scoped>\n",
       "    .dataframe tbody tr th:only-of-type {\n",
       "        vertical-align: middle;\n",
       "    }\n",
       "\n",
       "    .dataframe tbody tr th {\n",
       "        vertical-align: top;\n",
       "    }\n",
       "\n",
       "    .dataframe thead th {\n",
       "        text-align: right;\n",
       "    }\n",
       "</style>\n",
       "<table border=\"1\" class=\"dataframe\">\n",
       "  <thead>\n",
       "    <tr style=\"text-align: right;\">\n",
       "      <th></th>\n",
       "      <th>山水蒙</th>\n",
       "      <th>地雷复</th>\n",
       "      <th>火水未济</th>\n",
       "    </tr>\n",
       "  </thead>\n",
       "  <tbody>\n",
       "    <tr>\n",
       "      <th>上卦</th>\n",
       "      <td>☶艮土</td>\n",
       "      <td>☷坤土</td>\n",
       "      <td>☲离火</td>\n",
       "    </tr>\n",
       "    <tr>\n",
       "      <th>下卦</th>\n",
       "      <td>☵坎水</td>\n",
       "      <td>☳震木</td>\n",
       "      <td>☵坎水</td>\n",
       "    </tr>\n",
       "  </tbody>\n",
       "</table>\n",
       "</div>"
      ],
      "text/plain": [
       "    山水蒙  地雷复 火水未济\n",
       "上卦  ☶艮土  ☷坤土  ☲离火\n",
       "下卦  ☵坎水  ☳震木  ☵坎水"
      ]
     },
     "metadata": {},
     "output_type": "display_data"
    },
    {
     "name": "stdout",
     "output_type": "stream",
     "text": [
      "01 10 12 亥时\n",
      "先天八卦数: 1乾, 2兑, 3离, 4震, 5巽, 6坎, 7艮, 8坤\n",
      "本卦上：1 本卦下：2 变爻：6\n"
     ]
    },
    {
     "data": {
      "text/html": [
       "<div>\n",
       "<style scoped>\n",
       "    .dataframe tbody tr th:only-of-type {\n",
       "        vertical-align: middle;\n",
       "    }\n",
       "\n",
       "    .dataframe tbody tr th {\n",
       "        vertical-align: top;\n",
       "    }\n",
       "\n",
       "    .dataframe thead th {\n",
       "        text-align: right;\n",
       "    }\n",
       "</style>\n",
       "<table border=\"1\" class=\"dataframe\">\n",
       "  <thead>\n",
       "    <tr style=\"text-align: right;\">\n",
       "      <th></th>\n",
       "      <th>天泽履</th>\n",
       "      <th>风火家人</th>\n",
       "      <th>泽泽兑</th>\n",
       "    </tr>\n",
       "  </thead>\n",
       "  <tbody>\n",
       "    <tr>\n",
       "      <th>上卦</th>\n",
       "      <td>☰乾金</td>\n",
       "      <td>☴巽木</td>\n",
       "      <td>☱兑金</td>\n",
       "    </tr>\n",
       "    <tr>\n",
       "      <th>下卦</th>\n",
       "      <td>☱兑金</td>\n",
       "      <td>☲离火</td>\n",
       "      <td>☱兑金</td>\n",
       "    </tr>\n",
       "  </tbody>\n",
       "</table>\n",
       "</div>"
      ],
      "text/plain": [
       "    天泽履 风火家人  泽泽兑\n",
       "上卦  ☰乾金  ☴巽木  ☱兑金\n",
       "下卦  ☱兑金  ☲离火  ☱兑金"
      ]
     },
     "metadata": {},
     "output_type": "display_data"
    }
   ],
   "source": [
    "import sys\n",
    "from kaitoupao import *"
   ]
  },
  {
   "cell_type": "code",
   "execution_count": 2,
   "id": "4d85fbf8-6949-4d26-a614-27ae9f1ecab3",
   "metadata": {},
   "outputs": [],
   "source": [
    "import torch\n",
    "import torch.nn as nn\n",
    "import torch.nn.functional as F\n",
    "from torch.utils.data import DataLoader, TensorDataset, Dataset\n",
    "from torch.nn.utils.rnn import pad_sequence\n",
    "from sklearn.metrics import f1_score"
   ]
  },
  {
   "cell_type": "code",
   "execution_count": 3,
   "id": "6605d765-b333-41cc-9da7-928a2eb80d61",
   "metadata": {},
   "outputs": [],
   "source": [
    "from sklearn.model_selection import train_test_split"
   ]
  },
  {
   "cell_type": "code",
   "execution_count": 4,
   "id": "319b2f47-d25d-4943-b794-5865c4a8ff25",
   "metadata": {},
   "outputs": [],
   "source": [
    "device = torch.device(\"mps\")"
   ]
  },
  {
   "cell_type": "markdown",
   "id": "151910d0-6c8d-423f-87bc-538f48073940",
   "metadata": {},
   "source": [
    "# 加载训练集和测试集，将全量字符列表给它弄出来"
   ]
  },
  {
   "cell_type": "code",
   "execution_count": 5,
   "id": "80519151-9c80-4bbe-8967-ca9b9d9952af",
   "metadata": {},
   "outputs": [],
   "source": [
    "data_train = pd.read_csv(create_originalData_path(\"train_set.csv\"), sep=\"\\t\")#.sample(1000) , nrows=1000\n",
    "data_test = pd.read_csv(create_originalData_path(\"test_a.csv\"), sep=\"\\t\")#.sample(1000)"
   ]
  },
  {
   "cell_type": "code",
   "execution_count": 6,
   "id": "7003ef74-4ad9-435f-9234-516e9f608f2a",
   "metadata": {},
   "outputs": [
    {
     "data": {
      "text/plain": [
       "((200000, 2), (50000, 1))"
      ]
     },
     "execution_count": 6,
     "metadata": {},
     "output_type": "execute_result"
    }
   ],
   "source": [
    "data_train.shape, data_test.shape"
   ]
  },
  {
   "cell_type": "code",
   "execution_count": 7,
   "id": "d37fff12-c89e-4e84-9a9d-89064b711b94",
   "metadata": {},
   "outputs": [],
   "source": [
    "type_of_class = data_train.label.nunique()"
   ]
  },
  {
   "cell_type": "code",
   "execution_count": 8,
   "id": "808d37eb-c13a-4d59-923d-cd5aa4a6740b",
   "metadata": {},
   "outputs": [],
   "source": [
    "train_data, valid_data = train_test_split(data_train, test_size=0.3, random_state=42)"
   ]
  },
  {
   "cell_type": "code",
   "execution_count": 9,
   "id": "1bd3acc9-b6fe-4b86-a846-64ba4cd2e5ea",
   "metadata": {},
   "outputs": [],
   "source": [
    "train_labels = torch.tensor(train_data.label.to_list(), dtype=torch.long)\n",
    "valid_labels = torch.tensor(valid_data.label.to_list(), dtype=torch.long)\n",
    "test_labels = torch.tensor([-1 for x in range(data_test.shape[0])], dtype=torch.long) ## test_labels的label是假的。"
   ]
  },
  {
   "cell_type": "code",
   "execution_count": null,
   "id": "bd8aedbd-696c-457d-894f-8acc51bcdc61",
   "metadata": {},
   "outputs": [],
   "source": []
  },
  {
   "cell_type": "markdown",
   "id": "5784b333-7a55-4d5d-9a71-8d2704965e70",
   "metadata": {},
   "source": [
    "## 使用TF-IDF提取特征"
   ]
  },
  {
   "cell_type": "code",
   "execution_count": 10,
   "id": "773f5b4b-bb56-4aed-aea4-19db9e9391c9",
   "metadata": {},
   "outputs": [],
   "source": [
    "from sklearn.feature_extraction.text import TfidfVectorizer\n",
    "\n",
    "tfidf_vectorizer = TfidfVectorizer()\n",
    "tfidf_train_features = tfidf_vectorizer.fit_transform(train_data['text'])\n",
    "tfidf_valid_features = tfidf_vectorizer.transform(valid_data['text'])\n",
    "tfidf_test_features = tfidf_vectorizer.transform(data_test['text'])"
   ]
  },
  {
   "cell_type": "code",
   "execution_count": 11,
   "id": "318aa667-e44a-46d6-9f60-af2781806313",
   "metadata": {},
   "outputs": [],
   "source": [
    "train_features = torch.tensor(tfidf_train_features.toarray(), dtype=torch.float32)\n",
    "valid_features = torch.tensor(tfidf_valid_features.toarray(), dtype=torch.float32)\n",
    "test_features = torch.tensor(tfidf_test_features.toarray(), dtype=torch.float32)"
   ]
  },
  {
   "cell_type": "code",
   "execution_count": 12,
   "id": "95376078-9014-4cef-8dd1-f3a142644858",
   "metadata": {},
   "outputs": [
    {
     "data": {
      "text/plain": [
       "6695"
      ]
     },
     "execution_count": 12,
     "metadata": {},
     "output_type": "execute_result"
    }
   ],
   "source": [
    "sc_input_dim = train_features.shape[1]\n",
    "sc_input_dim"
   ]
  },
  {
   "cell_type": "markdown",
   "id": "27d9d9c0-a3f6-46a0-b88b-5a0399cc88ec",
   "metadata": {},
   "source": [
    "## 创建适合于语言序列的数据"
   ]
  },
  {
   "cell_type": "code",
   "execution_count": 13,
   "id": "359de0fd-bc05-47e1-a624-a6d23e86b4b4",
   "metadata": {},
   "outputs": [],
   "source": [
    "# 下载数据并进行预处理\n",
    "vocab_size = 8000  # 只考虑前 20k 词汇\n",
    "maxlen = 800  # 只考虑每条评论的前 200 个词"
   ]
  },
  {
   "cell_type": "code",
   "execution_count": 14,
   "id": "46ac102a-e2fb-478a-b2c6-6998ed02866f",
   "metadata": {},
   "outputs": [],
   "source": [
    "def preprocess_seq_str_2_int(seq, len_lim = maxlen):\n",
    "    rst = [int(wd) for idx, wd in enumerate(seq.strip().split()) if idx < len_lim]\n",
    "    return rst"
   ]
  },
  {
   "cell_type": "code",
   "execution_count": 15,
   "id": "f609e647-eea4-4674-8fe9-3c39f4a604c9",
   "metadata": {},
   "outputs": [],
   "source": [
    "x_train = [torch.tensor(preprocess_seq_str_2_int(seq), dtype=torch.long) for seq in train_data.text]\n",
    "x_valid = [torch.tensor(preprocess_seq_str_2_int(seq), dtype=torch.long) for seq in valid_data.text]\n",
    "x_test = [torch.tensor(preprocess_seq_str_2_int(seq), dtype=torch.long) for seq in data_test.text]"
   ]
  },
  {
   "cell_type": "code",
   "execution_count": 16,
   "id": "582fb80e-de88-4bc9-907b-d7b49b8e5753",
   "metadata": {},
   "outputs": [],
   "source": [
    "x_train = pad_sequence(x_train, batch_first=True, padding_value=0)\n",
    "x_valid = pad_sequence(x_valid, batch_first=True, padding_value=0)\n",
    "x_test = pad_sequence(x_test, batch_first=True, padding_value=0)"
   ]
  },
  {
   "cell_type": "code",
   "execution_count": null,
   "id": "6873e519-4b58-4ed5-90d6-b56bb0419929",
   "metadata": {},
   "outputs": [],
   "source": []
  },
  {
   "cell_type": "markdown",
   "id": "0c7691fe-777d-422a-8e84-015c3654d88e",
   "metadata": {},
   "source": [
    "## 准备数据集"
   ]
  },
  {
   "cell_type": "code",
   "execution_count": 17,
   "id": "6b898697-cfcc-4f89-b334-6abd66ec6270",
   "metadata": {},
   "outputs": [],
   "source": [
    "batchsize = 32"
   ]
  },
  {
   "cell_type": "code",
   "execution_count": 18,
   "id": "91d67ebd-ba91-494f-b148-d3945a95b474",
   "metadata": {},
   "outputs": [],
   "source": [
    "class MyData(Dataset):\n",
    "    def __init__(\n",
    "        self, \n",
    "        ori_data, tfidf_feats, label,\n",
    "    ):\n",
    "        self.ori_data = ori_data\n",
    "        self.tfidf_feats = tfidf_feats\n",
    "        self.label = label\n",
    " \n",
    "    def __len__(self):\n",
    "        return len(self.ori_data)\n",
    " \n",
    "    def __getitem__(self, idx):\n",
    "        tuple_ = (\n",
    "            self.ori_data[idx], \n",
    "            self.tfidf_feats[idx], \n",
    "            self.label[idx]\n",
    "        )\n",
    "        return tuple_"
   ]
  },
  {
   "cell_type": "code",
   "execution_count": 19,
   "id": "bec272ff-950c-4517-8702-40349394029c",
   "metadata": {},
   "outputs": [],
   "source": [
    "train_loader = DataLoader(MyData(x_train, train_features, train_labels), batch_size=batchsize, shuffle=True,)\n",
    "val_loader = DataLoader(MyData(x_valid, valid_features, valid_labels), batch_size=batchsize, shuffle=True,)\n",
    "test_loader = DataLoader(MyData(x_test, test_features, test_labels), batch_size=batchsize, shuffle=False,) ## 这个不要shuffle，否则传到oj上面去就GG了。"
   ]
  },
  {
   "cell_type": "code",
   "execution_count": null,
   "id": "42313977-935c-499d-815d-2886154bd4a1",
   "metadata": {},
   "outputs": [],
   "source": []
  },
  {
   "cell_type": "markdown",
   "id": "5ae440d3-e3d2-4907-ac77-0d97962c576a",
   "metadata": {},
   "source": [
    "# 定义网络结构\n",
    "\n",
    "并行使用CNN+BiLSTM+Transformer：\n",
    "* CNN捕捉局部n-gram特征（kernel_size=3,5,7）\n",
    "* BiLSTM捕获长距离时序依赖\n",
    "* Transformer处理全局关系"
   ]
  },
  {
   "cell_type": "code",
   "execution_count": null,
   "id": "ec6908fc-0085-48d6-8876-536ac58156b8",
   "metadata": {},
   "outputs": [],
   "source": []
  },
  {
   "cell_type": "code",
   "execution_count": 20,
   "id": "a123d3a0-63ad-4991-af25-51fceabb302a",
   "metadata": {},
   "outputs": [],
   "source": [
    "class TransformerBlock(nn.Module):\n",
    "    def __init__(self, embed_dim, num_heads, ff_dim, dropout=0.1):\n",
    "        super(TransformerBlock, self).__init__()\n",
    "        self.att = nn.MultiheadAttention(embed_dim, num_heads)\n",
    "        self.ffn = nn.Sequential(\n",
    "            nn.Linear(embed_dim, ff_dim),\n",
    "            nn.ReLU(),\n",
    "            nn.Linear(ff_dim, embed_dim)\n",
    "        )\n",
    "        self.layernorm1 = nn.LayerNorm(embed_dim)\n",
    "        self.layernorm2 = nn.LayerNorm(embed_dim)\n",
    "        self.dropout1 = nn.Dropout(dropout)\n",
    "        self.dropout2 = nn.Dropout(dropout)\n",
    "\n",
    "    def forward(self, x):\n",
    "        attn_output, _ = self.att(x, x, x)\n",
    "        attn_output = self.dropout1(attn_output)\n",
    "        out1 = self.layernorm1(x + attn_output)\n",
    "        ffn_output = self.ffn(out1)\n",
    "        ffn_output = self.dropout2(ffn_output)\n",
    "        return self.layernorm2(out1 + ffn_output)\n",
    "\n",
    "class TokenAndPositionEmbedding(nn.Module):\n",
    "    def __init__(self, maxlen, vocab_size, embed_dim):\n",
    "        super(TokenAndPositionEmbedding, self).__init__()\n",
    "        self.pos_emb = nn.Embedding(maxlen, embed_dim)\n",
    "\n",
    "    def forward(self, x):\n",
    "        maxlen = x.size(1)\n",
    "        positions = torch.arange(0, maxlen, device=x.device).unsqueeze(0).expand(x.size(0), x.size(1)) # torch.arange(0, maxlen, device=x.device).unsqueeze(0).expand_as(x)\n",
    "        # print(positions.shape)\n",
    "        return x + self.pos_emb(positions)\n",
    "\n",
    "class TransformerModel(nn.Module):\n",
    "    def __init__(self, maxlen, vocab_size, embed_dim, num_heads, ff_dim):\n",
    "        super(TransformerModel, self).__init__()\n",
    "        self.embedding_layer = TokenAndPositionEmbedding(maxlen, vocab_size, embed_dim)\n",
    "        self.transformer_block = TransformerBlock(embed_dim, num_heads, ff_dim)\n",
    "        self.global_avg_pool = nn.AdaptiveAvgPool1d(1)\n",
    "        \n",
    "    def forward(self, x):\n",
    "        x = self.embedding_layer(x).transpose(0, 1)  # Transformer expects (seq_len, batch_size, embed_dim)\n",
    "        x = self.transformer_block(x)\n",
    "        x = x.transpose(0, 1)\n",
    "        x = self.global_avg_pool(x.permute(0, 2, 1)).squeeze(-1)\n",
    "        return x"
   ]
  },
  {
   "cell_type": "code",
   "execution_count": 21,
   "id": "c9ceafa0-511d-44fa-9663-3801e5541c90",
   "metadata": {},
   "outputs": [],
   "source": [
    "## TextCNN：捕捉短时间的关系\n",
    "\n",
    "# https://blog.51cto.com/u_15764210/6844118\n",
    "class GlobalMaxPool1d(nn.Module):\n",
    "    def __init__(self):\n",
    "        super(GlobalMaxPool1d, self).__init__()\n",
    "    def forward(self, x):\n",
    "        return F.max_pool1d(x, kernel_size=x.shape[2]) # shape: (batch_size, channel, 1)\n",
    "        \n",
    "class TextCNN(nn.Module):\n",
    "    def __init__(\n",
    "        self, \n",
    "        embedding_dim=128, \n",
    "        kernel_sizes=[3, 4, 5, 6], num_channels=[256, 256, 256, 256], \n",
    "    ):\n",
    "        '''\n",
    "        ：param num_classes：输出维度（类别数num_Classes）\n",
    "        ：param num_embeddings: size of the dictionary of embeddings，词典的大小（vocab_size），当num_embeddings<O，模型会去除embedding层\n",
    "        ：param embedding_dim: the size of each embedding vector，词向量特征长度\n",
    "        ：param kernel_sizes: CNN层卷积核大小\n",
    "        ：param num_channels: CNN层卷积核通道数\n",
    "        : return:\n",
    "        '''\n",
    "        assert len(kernel_sizes) == len(num_channels), \"len(kernel_sizes) should be equal to len(num_channels)\"\n",
    "        super(TextCNN, self).__init__()\n",
    "        # self.num_classes = num_classes\n",
    "    \n",
    "        # 卷积层\n",
    "        self.cnn_layers = nn.ModuleList() # 创建多个一维卷积层\n",
    "        for c, k in zip(num_channels, kernel_sizes):\n",
    "            cnn = nn.Sequential(\n",
    "                nn.Conv1d(\n",
    "                    in_channels=embedding_dim,\n",
    "                    out_channels=c, \n",
    "                    kernel_size=k\n",
    "                ),\n",
    "                nn.BatchNorm1d(c),\n",
    "                nn.ReLU(inplace=True),\n",
    "            )\n",
    "            self.cnn_layers.append(cnn)\n",
    "        # 最大池化层\n",
    "        self.pool = GlobalMaxPool1d()\n",
    "            \n",
    "    def forward(self, input_):\n",
    "        '''\n",
    "        :param input: (batch_size, context_size, embedding_size(in_channels))\n",
    "        :return:\n",
    "        '''\n",
    "        input_ = input_.permute(0, 2, 1)\n",
    "        y = []\n",
    "        for layer in self.cnn_layers:\n",
    "            x = layer(input_)\n",
    "            x = self.pool(x).squeeze(-1)\n",
    "            y.append(x)\n",
    "        y = torch.cat(y, dim=1)\n",
    "        return y"
   ]
  },
  {
   "cell_type": "code",
   "execution_count": 22,
   "id": "305fa83b-d0e7-4bb6-99a2-223856077695",
   "metadata": {},
   "outputs": [],
   "source": [
    "# BiLSTM \n",
    "class LSTMClassifier(nn.Module):\n",
    "    def __init__(self, input_size, hidden_size, num_layers, bidirectional=False):\n",
    "        super(LSTMClassifier, self).__init__()\n",
    "        self.hidden_size = hidden_size\n",
    "        self.num_layers = num_layers\n",
    "        self.bi_dir = bidirectional\n",
    "        self.lstm = nn.LSTM(input_size, hidden_size, num_layers, batch_first=True, bidirectional=bidirectional)\n",
    "\n",
    "    def forward(self, x):\n",
    "        h0 = torch.zeros(self.num_layers *(2 if self.bi_dir else 1), x.size(0), self.hidden_size).to(x.device)\n",
    "        c0 = torch.zeros(self.num_layers *(2 if self.bi_dir else 1), x.size(0), self.hidden_size).to(x.device)\n",
    "        out, _ = self.lstm(x, (h0, c0))\n",
    "        return out[:, -1, :]"
   ]
  },
  {
   "cell_type": "code",
   "execution_count": 23,
   "id": "c904b8c9-c64b-4d31-a3d0-bb5bfa8c0f1c",
   "metadata": {},
   "outputs": [],
   "source": [
    "class GCNLayer(nn.Module):\n",
    "    def __init__(self, in_features, out_features):\n",
    "        super().__init__()\n",
    "        self.linear = nn.Linear(in_features, out_features)\n",
    "    \n",
    "    def forward(self, x, adj):\n",
    "        # x: [batch_size, seq_len, in_features]\n",
    "        # adj: [batch_size, seq_len, seq_len]\n",
    "        x = torch.matmul(adj, x)  # Graph propagation\n",
    "        x = self.linear(x)\n",
    "        return F.relu(x)\n",
    "\n",
    "class TextGCN(nn.Module):\n",
    "    def __init__(self, embed_dim=128, gcn_dim=64):\n",
    "        super().__init__()\n",
    "        \n",
    "        # GCN参数\n",
    "        self.gcn1 = GCNLayer(embed_dim, gcn_dim)\n",
    "        self.gcn2 = GCNLayer(gcn_dim, gcn_dim)\n",
    "    \n",
    "    def build_cooccurrence_matrix(self, batch):\n",
    "        \"\"\"构建批量共现矩阵\"\"\"\n",
    "        batch_adj = []\n",
    "        for seq in batch:\n",
    "            seq_len = seq.size(0)\n",
    "            window_size = 3\n",
    "            adj = torch.zeros((seq_len, seq_len))\n",
    "            \n",
    "            # 滑动窗口统计共现\n",
    "            for i in range(seq_len):\n",
    "                start = max(0, i - window_size)\n",
    "                end = min(seq_len, i + window_size + 1)\n",
    "                adj[i, start:end] = 1.0\n",
    "                adj[start:end, i] = 1.0\n",
    "            \n",
    "            batch_adj.append(adj)\n",
    "        return torch.stack(batch_adj).to(seq.device)\n",
    "\n",
    "    def forward(self, x_ori, x_emb):\n",
    "        # x: [batch_size, seq_len]\n",
    "        # embeddings = self.embedding(x)  # [batch, seq_len, embed_dim]\n",
    "        \n",
    "        # 构建共现图邻接矩阵\n",
    "        adj = self.build_cooccurrence_matrix(x_ori)  # [batch, seq_len, seq_len]\n",
    "        \n",
    "        # GCN处理\n",
    "        gcn_out = self.gcn1(x_emb, adj)\n",
    "        gcn_out = self.gcn2(gcn_out, adj)  # [batch, seq_len, gcn_dim]\n",
    "        \n",
    "        # 池化聚合\n",
    "        gcn_pooled = torch.mean(gcn_out, dim=1)  # [batch, gcn_dim]\n",
    "        # text_pooled = torch.mean(embeddings, dim=1)  # [batch, embed_dim]\n",
    "        \n",
    "        # 特征融合\n",
    "        combined = gcn_pooled # torch.cat([text_pooled, gcn_pooled], dim=1)\n",
    "        return combined"
   ]
  },
  {
   "cell_type": "code",
   "execution_count": 24,
   "id": "e6a1e31c-1b93-4476-ac9f-f36d6f23b622",
   "metadata": {},
   "outputs": [],
   "source": [
    "# 多层神经网络：\n",
    "class SentimentClassifier(nn.Module):\n",
    "    def __init__(self, input_dim, output_dim):\n",
    "        super().__init__()\n",
    "        self.fc = nn.Linear(input_dim, 32)\n",
    "        self.dropout1 = nn.Dropout(0.2)\n",
    "        self.dense1 = nn.Linear(32, 32)\n",
    "        self.dropout2 = nn.Dropout(0.2)\n",
    "        self.dense2 = nn.Linear(32, output_dim)\n",
    " \n",
    "    def forward(self, x):\n",
    "        x = F.relu(self.fc(x))\n",
    "        x = self.dropout1(x)\n",
    "        x = F.relu(self.dense1(x))\n",
    "        x = self.dropout2(x)\n",
    "        x = self.dense2(x)        \n",
    "        return x\n",
    "\n",
    "# # 单层神经网络：\n",
    "# class SentimentClassifier(nn.Module):\n",
    "#     def __init__(self, input_dim, output_dim):\n",
    "#         super().__init__()\n",
    "#         self.fc = nn.Linear(input_dim, output_dim)\n",
    " \n",
    "#     def forward(self, x):\n",
    "#         return self.fc(x)"
   ]
  },
  {
   "cell_type": "code",
   "execution_count": 25,
   "id": "ac2c7655-9005-4d46-9829-9c1d1c04080b",
   "metadata": {},
   "outputs": [],
   "source": [
    "# 定义模型\n",
    "class FinalModel(nn.Module):\n",
    "    def __init__(self, \n",
    "                 maxlen, vocab_size, embed_dim, num_heads, ff_dim,\n",
    "                tcnn_ks = [3,5,7], tcnn_nc = [16,16,16],\n",
    "                 lstm_hs = 128, lstm_nlyr = 2, lstm_bd = True,\n",
    "                 gcn_gd = 64,\n",
    "                ):\n",
    "        super(FinalModel, self).__init__()\n",
    "        ## emb层\n",
    "        self.token_emb = nn.Embedding(vocab_size, embed_dim)\n",
    "        ## Tsfm部分：\n",
    "        self.tsfm = TransformerModel(\n",
    "            maxlen, \n",
    "            vocab_size, \n",
    "            embed_dim, \n",
    "            num_heads, \n",
    "            ff_dim\n",
    "        ) # embed_dim\n",
    "        ## TextCNN部分：\n",
    "        self.textcnn = TextCNN(\n",
    "            embedding_dim = embed_dim, \n",
    "            kernel_sizes = tcnn_ks,\n",
    "            num_channels = tcnn_nc\n",
    "        ) # sum(tcnn_nc)\n",
    "        ## BiLSTM:\n",
    "        self.lstm = LSTMClassifier(\n",
    "            input_size = embed_dim, \n",
    "            hidden_size = lstm_hs, \n",
    "            num_layers = lstm_nlyr,  \n",
    "            bidirectional = lstm_bd\n",
    "        ) # lstm_hs * (2 if lstm_bd else 1)\n",
    "        ## gcn: \n",
    "        self.gcn = TextGCN(\n",
    "            embed_dim, \n",
    "            gcn_gd\n",
    "        )\n",
    "        self.mix = nn.Sequential(\n",
    "            ## 基于这个数字 embed_dim + sum(tcnn_nc) + lstm_hs * (2 if lstm_bd else 1) ，做一个全连接神经网络吧。\n",
    "            nn.Linear(\n",
    "                embed_dim + embed_dim + sum(tcnn_nc) + lstm_hs * (2 if lstm_bd else 1) + gcn_gd, # \n",
    "                ff_dim\n",
    "            ),\n",
    "            nn.ReLU(),\n",
    "            nn.Dropout(0.1),\n",
    "            nn.Linear(ff_dim, ff_dim),\n",
    "            nn.ReLU(),\n",
    "            nn.Dropout(0.1),\n",
    "            nn.Linear(ff_dim, type_of_class)\n",
    "        )\n",
    "        self.sc_net = SentimentClassifier(sc_input_dim, type_of_class)\n",
    "        \n",
    "    def forward(self, x, x_tfidf):\n",
    "        x_ori = x\n",
    "        x_emb = self.token_emb(x)#.to(device)\n",
    "        \n",
    "        ## 把emb直接平均起来，充作短路特征\n",
    "        emb_fea = torch.mean(x_emb, dim=1)\n",
    "        ## Tsfm部分：\n",
    "        x_tsfm = self.tsfm(x_emb) \n",
    "        ## TextCNN部分：\n",
    "        x_tcnn = self.textcnn(x_emb)\n",
    "        ## BiLSTM部分:\n",
    "        x_lstm = self.lstm(x_emb)\n",
    "        ## gcn: \n",
    "        x_gcn = self.gcn(x_ori, x_emb)\n",
    "        \n",
    "        ## 综合：\n",
    "        x_cat = torch.cat(\n",
    "            [\n",
    "                emb_fea, \n",
    "                x_tsfm, x_tcnn, x_lstm,\n",
    "                x_gcn\n",
    "            ], axis=1\n",
    "        )        \n",
    "        return F.log_softmax(\n",
    "            self.mix(x_cat) + self.sc_net(x_tfidf) , # \n",
    "            dim=-1\n",
    "        )"
   ]
  },
  {
   "cell_type": "code",
   "execution_count": null,
   "id": "535f8358-1cc9-4bd9-b93d-04975823d431",
   "metadata": {},
   "outputs": [],
   "source": []
  },
  {
   "cell_type": "code",
   "execution_count": 26,
   "id": "326c0c69-67d5-4ed4-a34f-c69f02807999",
   "metadata": {},
   "outputs": [],
   "source": [
    "# for x in train_loader:\n",
    "#     break\n",
    "\n",
    "# fnl = FinalModel(maxlen, vocab_size, embed_dim=128, num_heads=8, ff_dim=64)\n",
    "\n",
    "# fnl(x[0], x[1])"
   ]
  },
  {
   "cell_type": "code",
   "execution_count": null,
   "id": "18306fd2-9595-4101-9d99-bdcd6042a718",
   "metadata": {},
   "outputs": [],
   "source": []
  },
  {
   "cell_type": "markdown",
   "id": "f235d8db-587a-4b35-aad6-8286995d73b2",
   "metadata": {},
   "source": [
    "# 构建模型以及训练"
   ]
  },
  {
   "cell_type": "code",
   "execution_count": 27,
   "id": "ef3b3ae4-c7db-48aa-9b53-803138555eee",
   "metadata": {},
   "outputs": [],
   "source": [
    "model = FinalModel(maxlen, vocab_size, embed_dim=128, num_heads=8, ff_dim=64)\n",
    "optimizer = torch.optim.AdamW(model.parameters(), lr=0.001)\n",
    "criterion = nn.CrossEntropyLoss()"
   ]
  },
  {
   "cell_type": "code",
   "execution_count": 28,
   "id": "f873c185-c9bc-4c08-9f4d-257022f104a6",
   "metadata": {},
   "outputs": [
    {
     "data": {
      "text/plain": [
       "FinalModel(\n",
       "  (token_emb): Embedding(8000, 128)\n",
       "  (tsfm): TransformerModel(\n",
       "    (embedding_layer): TokenAndPositionEmbedding(\n",
       "      (pos_emb): Embedding(800, 128)\n",
       "    )\n",
       "    (transformer_block): TransformerBlock(\n",
       "      (att): MultiheadAttention(\n",
       "        (out_proj): NonDynamicallyQuantizableLinear(in_features=128, out_features=128, bias=True)\n",
       "      )\n",
       "      (ffn): Sequential(\n",
       "        (0): Linear(in_features=128, out_features=64, bias=True)\n",
       "        (1): ReLU()\n",
       "        (2): Linear(in_features=64, out_features=128, bias=True)\n",
       "      )\n",
       "      (layernorm1): LayerNorm((128,), eps=1e-05, elementwise_affine=True)\n",
       "      (layernorm2): LayerNorm((128,), eps=1e-05, elementwise_affine=True)\n",
       "      (dropout1): Dropout(p=0.1, inplace=False)\n",
       "      (dropout2): Dropout(p=0.1, inplace=False)\n",
       "    )\n",
       "    (global_avg_pool): AdaptiveAvgPool1d(output_size=1)\n",
       "  )\n",
       "  (textcnn): TextCNN(\n",
       "    (cnn_layers): ModuleList(\n",
       "      (0): Sequential(\n",
       "        (0): Conv1d(128, 16, kernel_size=(3,), stride=(1,))\n",
       "        (1): BatchNorm1d(16, eps=1e-05, momentum=0.1, affine=True, track_running_stats=True)\n",
       "        (2): ReLU(inplace=True)\n",
       "      )\n",
       "      (1): Sequential(\n",
       "        (0): Conv1d(128, 16, kernel_size=(5,), stride=(1,))\n",
       "        (1): BatchNorm1d(16, eps=1e-05, momentum=0.1, affine=True, track_running_stats=True)\n",
       "        (2): ReLU(inplace=True)\n",
       "      )\n",
       "      (2): Sequential(\n",
       "        (0): Conv1d(128, 16, kernel_size=(7,), stride=(1,))\n",
       "        (1): BatchNorm1d(16, eps=1e-05, momentum=0.1, affine=True, track_running_stats=True)\n",
       "        (2): ReLU(inplace=True)\n",
       "      )\n",
       "    )\n",
       "    (pool): GlobalMaxPool1d()\n",
       "  )\n",
       "  (lstm): LSTMClassifier(\n",
       "    (lstm): LSTM(128, 128, num_layers=2, batch_first=True, bidirectional=True)\n",
       "  )\n",
       "  (gcn): TextGCN(\n",
       "    (gcn1): GCNLayer(\n",
       "      (linear): Linear(in_features=128, out_features=64, bias=True)\n",
       "    )\n",
       "    (gcn2): GCNLayer(\n",
       "      (linear): Linear(in_features=64, out_features=64, bias=True)\n",
       "    )\n",
       "  )\n",
       "  (mix): Sequential(\n",
       "    (0): Linear(in_features=624, out_features=64, bias=True)\n",
       "    (1): ReLU()\n",
       "    (2): Dropout(p=0.1, inplace=False)\n",
       "    (3): Linear(in_features=64, out_features=64, bias=True)\n",
       "    (4): ReLU()\n",
       "    (5): Dropout(p=0.1, inplace=False)\n",
       "    (6): Linear(in_features=64, out_features=14, bias=True)\n",
       "  )\n",
       "  (sc_net): SentimentClassifier(\n",
       "    (fc): Linear(in_features=6695, out_features=32, bias=True)\n",
       "    (dropout1): Dropout(p=0.2, inplace=False)\n",
       "    (dense1): Linear(in_features=32, out_features=32, bias=True)\n",
       "    (dropout2): Dropout(p=0.2, inplace=False)\n",
       "    (dense2): Linear(in_features=32, out_features=14, bias=True)\n",
       "  )\n",
       ")"
      ]
     },
     "execution_count": 28,
     "metadata": {},
     "output_type": "execute_result"
    }
   ],
   "source": [
    "model"
   ]
  },
  {
   "cell_type": "code",
   "execution_count": 29,
   "id": "be7ce043-bef9-4240-9f2c-4801a077760c",
   "metadata": {},
   "outputs": [],
   "source": [
    "# 训练和评估模型\n",
    "def train_model(model, train_loader, val_loader, criterion, optimizer, epochs=2):\n",
    "    # device = torch.device('cuda' if torch.cuda.is_available() else 'cpu')\n",
    "    model.to(device)\n",
    "    \n",
    "    for epoch in range(epochs):\n",
    "        model.train()\n",
    "        train_loss = 0\n",
    "        correct = 0\n",
    "        total = 0\n",
    "        for inputs, input_tfidfs, targets in tqdm.tqdm(train_loader):\n",
    "            inputs, input_tfidfs, targets = inputs.to(device), input_tfidfs.to(device), targets.to(device)\n",
    "            optimizer.zero_grad()\n",
    "            outputs = model(inputs, input_tfidfs)\n",
    "            loss = criterion(outputs, targets)\n",
    "            loss.requires_grad_(True)\n",
    "            loss.backward()\n",
    "            optimizer.step()\n",
    "            train_loss += loss.item()\n",
    "            _, predicted = torch.max(outputs, 1)\n",
    "            total += targets.size(0)\n",
    "            correct += predicted.eq(targets).sum().item()\n",
    "        print(f'Epoch {epoch + 1}/{epochs}, Loss: {train_loss/len(train_loader)}, Accuracy: {100.*correct/total}%')\n",
    "        \n",
    "        model.eval()\n",
    "        val_loss = 0\n",
    "        correct = 0\n",
    "        total = 0\n",
    "        with torch.no_grad():\n",
    "            total_predicted = []\n",
    "            total_label = []\n",
    "            for inputs, input_tfidfs, targets in tqdm.tqdm(val_loader):\n",
    "                inputs, input_tfidfs, targets = inputs.to(device), input_tfidfs.to(device), targets.to(device)\n",
    "                outputs = model(inputs, input_tfidfs)\n",
    "                loss = criterion(outputs, targets)\n",
    "                val_loss += loss.item()\n",
    "                _, predicted = torch.max(outputs, 1)\n",
    "                total += targets.size(0)\n",
    "                correct += predicted.eq(targets).sum().item()\n",
    "\n",
    "                total_predicted += list(predicted.cpu())\n",
    "                total_label += list(targets.cpu())\n",
    "        f1 = f1_score(total_label, total_predicted, average='macro')\n",
    "                \n",
    "        print(f'Validation Loss: {val_loss/len(val_loader)}, Accuracy: {100.*correct/total}%, f1 score is {f1}')"
   ]
  },
  {
   "cell_type": "code",
   "execution_count": 30,
   "id": "aeb00623-5700-4c7e-abdc-f2855b67f1da",
   "metadata": {},
   "outputs": [],
   "source": [
    "## 目前先尝试只使用gcn来跑。\n",
    "## 后续我们再看要不要增加其他的模型结构来跑。"
   ]
  },
  {
   "cell_type": "code",
   "execution_count": 31,
   "id": "38b789c8-0cf8-4e0d-897d-b42c874d11ee",
   "metadata": {},
   "outputs": [
    {
     "name": "stderr",
     "output_type": "stream",
     "text": [
      "100%|███████████████████████████████████████| 4375/4375 [26:39<00:00,  2.73it/s]\n"
     ]
    },
    {
     "name": "stdout",
     "output_type": "stream",
     "text": [
      "Epoch 1/1, Loss: 0.4351307381272316, Accuracy: 86.92928571428571%\n"
     ]
    },
    {
     "name": "stderr",
     "output_type": "stream",
     "text": [
      "100%|███████████████████████████████████████| 1875/1875 [05:57<00:00,  5.24it/s]\n"
     ]
    },
    {
     "name": "stdout",
     "output_type": "stream",
     "text": [
      "Validation Loss: 0.2343884338264664, Accuracy: 92.82%, f1 score is 0.9067184729116341\n"
     ]
    }
   ],
   "source": [
    "train_model(model, train_loader, val_loader, criterion, optimizer, epochs=1)"
   ]
  },
  {
   "cell_type": "code",
   "execution_count": null,
   "id": "9093fdc5-3313-4dc5-9c73-410efd562c15",
   "metadata": {},
   "outputs": [],
   "source": []
  },
  {
   "cell_type": "code",
   "execution_count": 32,
   "id": "e60fa936-d26b-45e5-8080-5801fd81c36b",
   "metadata": {},
   "outputs": [
    {
     "name": "stderr",
     "output_type": "stream",
     "text": [
      "100%|███████████████████████████████████████| 4375/4375 [26:43<00:00,  2.73it/s]\n"
     ]
    },
    {
     "name": "stdout",
     "output_type": "stream",
     "text": [
      "Epoch 1/4, Loss: 0.22300845012579645, Accuracy: 93.17785714285715%\n"
     ]
    },
    {
     "name": "stderr",
     "output_type": "stream",
     "text": [
      "100%|███████████████████████████████████████| 1875/1875 [05:51<00:00,  5.33it/s]\n"
     ]
    },
    {
     "name": "stdout",
     "output_type": "stream",
     "text": [
      "Validation Loss: 0.19934430090188981, Accuracy: 93.875%, f1 score is 0.9232486830112003\n"
     ]
    },
    {
     "name": "stderr",
     "output_type": "stream",
     "text": [
      "100%|███████████████████████████████████████| 4375/4375 [26:51<00:00,  2.71it/s]\n"
     ]
    },
    {
     "name": "stdout",
     "output_type": "stream",
     "text": [
      "Epoch 2/4, Loss: 0.1766006228304335, Accuracy: 94.59714285714286%\n"
     ]
    },
    {
     "name": "stderr",
     "output_type": "stream",
     "text": [
      "100%|███████████████████████████████████████| 1875/1875 [06:12<00:00,  5.04it/s]\n"
     ]
    },
    {
     "name": "stdout",
     "output_type": "stream",
     "text": [
      "Validation Loss: 0.20008291939708095, Accuracy: 93.96666666666667%, f1 score is 0.9228555275166999\n"
     ]
    },
    {
     "name": "stderr",
     "output_type": "stream",
     "text": [
      "100%|███████████████████████████████████████| 4375/4375 [25:46<00:00,  2.83it/s]\n"
     ]
    },
    {
     "name": "stdout",
     "output_type": "stream",
     "text": [
      "Epoch 3/4, Loss: 0.14288877704744893, Accuracy: 95.54214285714286%\n"
     ]
    },
    {
     "name": "stderr",
     "output_type": "stream",
     "text": [
      "100%|███████████████████████████████████████| 1875/1875 [05:42<00:00,  5.47it/s]\n"
     ]
    },
    {
     "name": "stdout",
     "output_type": "stream",
     "text": [
      "Validation Loss: 0.19579365724027156, Accuracy: 94.08333333333333%, f1 score is 0.9271034543624819\n"
     ]
    },
    {
     "name": "stderr",
     "output_type": "stream",
     "text": [
      "100%|███████████████████████████████████████| 4375/4375 [25:48<00:00,  2.83it/s]\n"
     ]
    },
    {
     "name": "stdout",
     "output_type": "stream",
     "text": [
      "Epoch 4/4, Loss: 0.11539019079501076, Accuracy: 96.28571428571429%\n"
     ]
    },
    {
     "name": "stderr",
     "output_type": "stream",
     "text": [
      "100%|███████████████████████████████████████| 1875/1875 [05:42<00:00,  5.47it/s]\n"
     ]
    },
    {
     "name": "stdout",
     "output_type": "stream",
     "text": [
      "Validation Loss: 0.20654332947935908, Accuracy: 94.26833333333333%, f1 score is 0.9283153154642002\n"
     ]
    }
   ],
   "source": [
    "train_model(model, train_loader, val_loader, criterion, optimizer, epochs=4) "
   ]
  },
  {
   "cell_type": "code",
   "execution_count": 33,
   "id": "9b0d5350-dc83-41f7-a4a1-33b72dcae369",
   "metadata": {},
   "outputs": [
    {
     "name": "stderr",
     "output_type": "stream",
     "text": [
      "100%|███████████████████████████████████████| 4375/4375 [25:58<00:00,  2.81it/s]\n"
     ]
    },
    {
     "name": "stdout",
     "output_type": "stream",
     "text": [
      "Epoch 1/1, Loss: 0.09415317839064768, Accuracy: 96.93785714285714%\n"
     ]
    },
    {
     "name": "stderr",
     "output_type": "stream",
     "text": [
      "100%|███████████████████████████████████████| 1875/1875 [05:39<00:00,  5.53it/s]\n"
     ]
    },
    {
     "name": "stdout",
     "output_type": "stream",
     "text": [
      "Validation Loss: 0.221604420032911, Accuracy: 94.00166666666667%, f1 score is 0.9249864347017996\n"
     ]
    }
   ],
   "source": [
    "train_model(model, train_loader, val_loader, criterion, optimizer, epochs=1) \n",
    "## 意义不大了"
   ]
  },
  {
   "cell_type": "code",
   "execution_count": 34,
   "id": "cefe3c44-ea12-4b15-ac3f-a6eaf1e334c9",
   "metadata": {},
   "outputs": [
    {
     "name": "stderr",
     "output_type": "stream",
     "text": [
      "100%|███████████████████████████████████████| 4375/4375 [25:54<00:00,  2.81it/s]\n"
     ]
    },
    {
     "name": "stdout",
     "output_type": "stream",
     "text": [
      "Epoch 1/5, Loss: 0.07772540336156795, Accuracy: 97.43071428571429%\n"
     ]
    },
    {
     "name": "stderr",
     "output_type": "stream",
     "text": [
      "100%|███████████████████████████████████████| 1875/1875 [05:39<00:00,  5.52it/s]\n"
     ]
    },
    {
     "name": "stdout",
     "output_type": "stream",
     "text": [
      "Validation Loss: 0.2353672108337283, Accuracy: 93.965%, f1 score is 0.9249550281501006\n"
     ]
    },
    {
     "name": "stderr",
     "output_type": "stream",
     "text": [
      "100%|███████████████████████████████████████| 4375/4375 [25:44<00:00,  2.83it/s]\n"
     ]
    },
    {
     "name": "stdout",
     "output_type": "stream",
     "text": [
      "Epoch 2/5, Loss: 0.06376681924703798, Accuracy: 97.87571428571428%\n"
     ]
    },
    {
     "name": "stderr",
     "output_type": "stream",
     "text": [
      "100%|███████████████████████████████████████| 1875/1875 [05:40<00:00,  5.51it/s]\n"
     ]
    },
    {
     "name": "stdout",
     "output_type": "stream",
     "text": [
      "Validation Loss: 0.25398329112113766, Accuracy: 93.96333333333334%, f1 score is 0.9259605232906473\n"
     ]
    },
    {
     "name": "stderr",
     "output_type": "stream",
     "text": [
      "100%|███████████████████████████████████████| 4375/4375 [25:45<00:00,  2.83it/s]\n"
     ]
    },
    {
     "name": "stdout",
     "output_type": "stream",
     "text": [
      "Epoch 3/5, Loss: 0.05609394453355178, Accuracy: 98.13785714285714%\n"
     ]
    },
    {
     "name": "stderr",
     "output_type": "stream",
     "text": [
      "100%|███████████████████████████████████████| 1875/1875 [05:40<00:00,  5.50it/s]\n"
     ]
    },
    {
     "name": "stdout",
     "output_type": "stream",
     "text": [
      "Validation Loss: 0.2683606879796212, Accuracy: 93.79%, f1 score is 0.9213638135122089\n"
     ]
    },
    {
     "name": "stderr",
     "output_type": "stream",
     "text": [
      "100%|███████████████████████████████████████| 4375/4375 [26:00<00:00,  2.80it/s]\n"
     ]
    },
    {
     "name": "stdout",
     "output_type": "stream",
     "text": [
      "Epoch 4/5, Loss: 0.04883454314146657, Accuracy: 98.36428571428571%\n"
     ]
    },
    {
     "name": "stderr",
     "output_type": "stream",
     "text": [
      "100%|███████████████████████████████████████| 1875/1875 [05:41<00:00,  5.50it/s]\n"
     ]
    },
    {
     "name": "stdout",
     "output_type": "stream",
     "text": [
      "Validation Loss: 0.27236917958913837, Accuracy: 93.995%, f1 score is 0.9255836095186504\n"
     ]
    },
    {
     "name": "stderr",
     "output_type": "stream",
     "text": [
      "100%|███████████████████████████████████████| 4375/4375 [25:58<00:00,  2.81it/s]\n"
     ]
    },
    {
     "name": "stdout",
     "output_type": "stream",
     "text": [
      "Epoch 5/5, Loss: 0.0425870361896132, Accuracy: 98.515%\n"
     ]
    },
    {
     "name": "stderr",
     "output_type": "stream",
     "text": [
      "100%|███████████████████████████████████████| 1875/1875 [05:41<00:00,  5.49it/s]\n"
     ]
    },
    {
     "name": "stdout",
     "output_type": "stream",
     "text": [
      "Validation Loss: 0.2818319543664169, Accuracy: 94.11%, f1 score is 0.9258190264691774\n"
     ]
    }
   ],
   "source": [
    "train_model(model, train_loader, val_loader, criterion, optimizer, epochs=5)"
   ]
  },
  {
   "cell_type": "code",
   "execution_count": 35,
   "id": "19e6ef7b-2814-44f5-b825-49f11c901b48",
   "metadata": {},
   "outputs": [
    {
     "name": "stderr",
     "output_type": "stream",
     "text": [
      "100%|███████████████████████████████████████| 4375/4375 [25:43<00:00,  2.83it/s]\n"
     ]
    },
    {
     "name": "stdout",
     "output_type": "stream",
     "text": [
      "Epoch 1/1, Loss: 0.0387133414902716, Accuracy: 98.67357142857144%\n"
     ]
    },
    {
     "name": "stderr",
     "output_type": "stream",
     "text": [
      "100%|███████████████████████████████████████| 1875/1875 [05:38<00:00,  5.54it/s]\n"
     ]
    },
    {
     "name": "stdout",
     "output_type": "stream",
     "text": [
      "Validation Loss: 0.27515747745550856, Accuracy: 94.0%, f1 score is 0.9252897626872325\n"
     ]
    }
   ],
   "source": [
    "train_model(model, train_loader, val_loader, criterion, optimizer, epochs=1)"
   ]
  },
  {
   "cell_type": "code",
   "execution_count": null,
   "id": "d5564b20-6245-4169-a865-77f7e2ba798b",
   "metadata": {},
   "outputs": [],
   "source": []
  },
  {
   "cell_type": "markdown",
   "id": "fda2273a-b9be-48bb-b6a7-bbba54681dca",
   "metadata": {},
   "source": [
    "# 保存模型"
   ]
  },
  {
   "cell_type": "code",
   "execution_count": 36,
   "id": "c84a5ca3-21e1-466c-aeff-bbf6a4b94868",
   "metadata": {},
   "outputs": [
    {
     "name": "stdout",
     "output_type": "stream",
     "text": [
      "/Users/minkexiu/Downloads/GitHub/Tianchi_NLPNewsClassification/trained_models/ori_9319-20250207_1.pkl\n"
     ]
    }
   ],
   "source": [
    "save_pickle_object(model, create_trained_models_path(\"ori_9319-20250207_1.pkl\"))"
   ]
  },
  {
   "cell_type": "code",
   "execution_count": null,
   "id": "453e182b-c62a-44fd-afc5-97c4a1495f08",
   "metadata": {},
   "outputs": [],
   "source": []
  },
  {
   "cell_type": "markdown",
   "id": "e28f73fe-c05f-45fb-ac86-437d8adad664",
   "metadata": {},
   "source": [
    "# 预测一下试试"
   ]
  },
  {
   "cell_type": "code",
   "execution_count": 37,
   "id": "f419efd0-8862-48ce-814f-1fae5bd1641b",
   "metadata": {},
   "outputs": [],
   "source": [
    "# model = load_pickle_object(create_trained_models_path(\"ori_9319-20250207_1.pkl\"))"
   ]
  },
  {
   "cell_type": "code",
   "execution_count": null,
   "id": "62890fb3-759f-4b58-8686-0ca62ba903d7",
   "metadata": {},
   "outputs": [],
   "source": []
  },
  {
   "cell_type": "code",
   "execution_count": 38,
   "id": "0a123afe-2fe4-4f8a-903b-1b24f4810a7c",
   "metadata": {},
   "outputs": [
    {
     "name": "stderr",
     "output_type": "stream",
     "text": [
      "100%|███████████████████████████████████████| 1563/1563 [04:36<00:00,  5.65it/s]\n"
     ]
    }
   ],
   "source": [
    "with torch.no_grad():\n",
    "    total_predicted = []\n",
    "    for inputs, input_tfidfs, targets in tqdm.tqdm(test_loader):\n",
    "        inputs, input_tfidfs, targets = inputs.to(device), input_tfidfs.to(device), targets.to(device)\n",
    "        outputs = model(inputs, input_tfidfs)\n",
    "        _, predicted = torch.max(outputs, 1)\n",
    "        total_predicted += list(predicted)"
   ]
  },
  {
   "cell_type": "code",
   "execution_count": 39,
   "id": "706d090f-a3bc-45f4-81f2-e85fef155296",
   "metadata": {},
   "outputs": [
    {
     "data": {
      "text/plain": [
       "50000"
      ]
     },
     "execution_count": 39,
     "metadata": {},
     "output_type": "execute_result"
    }
   ],
   "source": [
    "oot_rst = [int(x) for x in total_predicted]\n",
    "len(oot_rst)"
   ]
  },
  {
   "cell_type": "code",
   "execution_count": 40,
   "id": "b7bd7c9e-be76-4c3e-89c7-beae8a4ccf90",
   "metadata": {},
   "outputs": [
    {
     "name": "stdout",
     "output_type": "stream",
     "text": [
      "df.to_csv(\"/Users/minkexiu/Downloads/GitHub/Tianchi_NLPNewsClassification/preprocessedData/rst-20250207_1.csv\", index=False)\n",
      "data saved.\n"
     ]
    },
    {
     "data": {
      "text/plain": [
       "'/Users/minkexiu/Downloads/GitHub/Tianchi_NLPNewsClassification/preprocessedData/rst-20250207_1.csv'"
      ]
     },
     "execution_count": 40,
     "metadata": {},
     "output_type": "execute_result"
    }
   ],
   "source": [
    "store_data_to_newbasepath(pd.DataFrame({\"label\": oot_rst}), \"rst-20250207_1\", fmt=\"csv\")"
   ]
  },
  {
   "cell_type": "code",
   "execution_count": null,
   "id": "a3db65fc-dd7b-4ca6-a420-bbe43e95b9b6",
   "metadata": {},
   "outputs": [],
   "source": []
  }
 ],
 "metadata": {
  "kernelspec": {
   "display_name": "Python 3 (ipykernel)",
   "language": "python",
   "name": "python3"
  },
  "language_info": {
   "codemirror_mode": {
    "name": "ipython",
    "version": 3
   },
   "file_extension": ".py",
   "mimetype": "text/x-python",
   "name": "python",
   "nbconvert_exporter": "python",
   "pygments_lexer": "ipython3",
   "version": "3.10.12"
  }
 },
 "nbformat": 4,
 "nbformat_minor": 5
}
