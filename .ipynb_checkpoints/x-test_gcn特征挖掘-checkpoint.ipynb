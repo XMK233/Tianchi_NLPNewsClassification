{
 "cells": [
  {
   "cell_type": "code",
   "execution_count": 1,
   "id": "33297da1-2c6b-4cbf-bf0c-d38dc5250cd9",
   "metadata": {},
   "outputs": [
    {
     "name": "stdout",
     "output_type": "stream",
     "text": [
      "torch.Size([2, 14])\n"
     ]
    }
   ],
   "source": [
    "import torch\n",
    "import torch.nn as nn\n",
    "import torch.nn.functional as F\n",
    "from torch_geometric.utils import dense_to_sparse\n",
    "\n",
    "class GCNLayer(nn.Module):\n",
    "    def __init__(self, in_features, out_features):\n",
    "        super().__init__()\n",
    "        self.linear = nn.Linear(in_features, out_features)\n",
    "    \n",
    "    def forward(self, x, adj):\n",
    "        # x: [batch_size, seq_len, in_features]\n",
    "        # adj: [batch_size, seq_len, seq_len]\n",
    "        x = torch.matmul(adj, x)  # Graph propagation\n",
    "        x = self.linear(x)\n",
    "        return F.relu(x)\n",
    "\n",
    "class TextGCN(nn.Module):\n",
    "    def __init__(self, vocab_size=10000, embed_dim=128, gcn_dim=64, num_classes=14):\n",
    "        super().__init__()\n",
    "        self.embedding = nn.Embedding(vocab_size, embed_dim)\n",
    "        \n",
    "        # GCN参数\n",
    "        self.gcn1 = GCNLayer(embed_dim, gcn_dim)\n",
    "        self.gcn2 = GCNLayer(gcn_dim, gcn_dim)\n",
    "        \n",
    "        # 分类器\n",
    "        self.classifier = nn.Sequential(\n",
    "            nn.Linear(embed_dim + gcn_dim, 64),\n",
    "            nn.ReLU(),\n",
    "            nn.Linear(64, num_classes)\n",
    "        )\n",
    "    \n",
    "    def build_cooccurrence_matrix(self, batch):\n",
    "        \"\"\"构建批量共现矩阵\"\"\"\n",
    "        batch_adj = []\n",
    "        for seq in batch:\n",
    "            seq_len = seq.size(0)\n",
    "            window_size = 3\n",
    "            adj = torch.zeros((seq_len, seq_len))\n",
    "            \n",
    "            # 滑动窗口统计共现\n",
    "            for i in range(seq_len):\n",
    "                start = max(0, i - window_size)\n",
    "                end = min(seq_len, i + window_size + 1)\n",
    "                adj[i, start:end] = 1.0\n",
    "                adj[start:end, i] = 1.0\n",
    "            \n",
    "            batch_adj.append(adj)\n",
    "        return torch.stack(batch_adj).to(seq.device)\n",
    "\n",
    "    def forward(self, x):\n",
    "        # x: [batch_size, seq_len]\n",
    "        embeddings = self.embedding(x)  # [batch, seq_len, embed_dim]\n",
    "        \n",
    "        # 构建共现图邻接矩阵\n",
    "        adj = self.build_cooccurrence_matrix(x)  # [batch, seq_len, seq_len]\n",
    "        \n",
    "        # GCN处理\n",
    "        gcn_out = self.gcn1(embeddings, adj)\n",
    "        gcn_out = self.gcn2(gcn_out, adj)  # [batch, seq_len, gcn_dim]\n",
    "        \n",
    "        # 池化聚合\n",
    "        gcn_pooled = torch.mean(gcn_out, dim=1)  # [batch, gcn_dim]\n",
    "        text_pooled = torch.mean(embeddings, dim=1)  # [batch, embed_dim]\n",
    "        \n",
    "        # 特征融合\n",
    "        combined = torch.cat([text_pooled, gcn_pooled], dim=1)\n",
    "        return self.classifier(combined)\n",
    "\n",
    "# 使用示例\n",
    "if __name__ == \"__main__\":\n",
    "    # 假设输入数据: batch_size=2, seq_len=10, vocab_size=10000\n",
    "    inputs = torch.randint(0, 10000, (2, 10))  \n",
    "    \n",
    "    model = TextGCN(vocab_size=10000)\n",
    "    outputs = model(inputs)\n",
    "    print(outputs.shape)  # torch.Size([2, 14])"
   ]
  },
  {
   "cell_type": "code",
   "execution_count": 2,
   "id": "f5c7ad2f-025f-43eb-a9e2-66d5381df874",
   "metadata": {},
   "outputs": [
    {
     "data": {
      "text/plain": [
       "tensor([[8473,  661, 4243, 2415, 7734, 8163, 2561, 6944, 1088, 5565],\n",
       "        [3613, 6045,   28, 8119, 6925,  560, 6913, 4765, 9400, 2793]])"
      ]
     },
     "execution_count": 2,
     "metadata": {},
     "output_type": "execute_result"
    }
   ],
   "source": [
    "inputs"
   ]
  },
  {
   "cell_type": "code",
   "execution_count": null,
   "id": "2fde816b-203e-4b06-81a5-2a98085003b1",
   "metadata": {},
   "outputs": [],
   "source": []
  }
 ],
 "metadata": {
  "kernelspec": {
   "display_name": "Python 3 (ipykernel)",
   "language": "python",
   "name": "python3"
  },
  "language_info": {
   "codemirror_mode": {
    "name": "ipython",
    "version": 3
   },
   "file_extension": ".py",
   "mimetype": "text/x-python",
   "name": "python",
   "nbconvert_exporter": "python",
   "pygments_lexer": "ipython3",
   "version": "3.12.0"
  }
 },
 "nbformat": 4,
 "nbformat_minor": 5
}
